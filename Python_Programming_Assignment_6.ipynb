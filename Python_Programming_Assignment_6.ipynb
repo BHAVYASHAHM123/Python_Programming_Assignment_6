{
  "nbformat": 4,
  "nbformat_minor": 0,
  "metadata": {
    "colab": {
      "name": "Python_Programming_Assignment_6.ipynb",
      "provenance": []
    },
    "kernelspec": {
      "name": "python3",
      "display_name": "Python 3"
    },
    "language_info": {
      "name": "python"
    }
  },
  "cells": [
    {
      "cell_type": "markdown",
      "source": [
        "Q1) Write a Python Program to Display Fibonacci Sequence Using Recursion?"
      ],
      "metadata": {
        "id": "XgZTjG5d2GYp"
      }
    },
    {
      "cell_type": "code",
      "execution_count": 1,
      "metadata": {
        "colab": {
          "base_uri": "https://localhost:8080/"
        },
        "id": "GLKKPG4r2BtZ",
        "outputId": "eda84f98-7c2a-45fc-89f9-fcd29601b9b8"
      },
      "outputs": [
        {
          "output_type": "stream",
          "name": "stdout",
          "text": [
            "Fibonacci sequence:\n",
            "0\n",
            "1\n",
            "1\n",
            "2\n",
            "3\n",
            "5\n",
            "8\n",
            "13\n",
            "21\n",
            "34\n"
          ]
        }
      ],
      "source": [
        "\n",
        "def recur_fibo(n):\n",
        "   if n <= 1:\n",
        "       return n\n",
        "   else:\n",
        "       return(recur_fibo(n-1) + recur_fibo(n-2))\n",
        "\n",
        "nterms = 10\n",
        "\n",
        "if nterms <= 0:\n",
        "   print(\"Plese enter a positive integer\")\n",
        "else:\n",
        "   print(\"Fibonacci sequence:\")\n",
        "   for i in range(nterms):\n",
        "       print(recur_fibo(i))\n"
      ]
    },
    {
      "cell_type": "markdown",
      "source": [
        "Q2) Write a Python Program to Find Factorial of Number Using Recursion?"
      ],
      "metadata": {
        "id": "ML9N-UFV2P-x"
      }
    },
    {
      "cell_type": "code",
      "source": [
        "\n",
        "def recur_factorial(n):\n",
        "   if n == 1:\n",
        "       return n\n",
        "   else:\n",
        "       return n*recur_factorial(n-1)\n",
        "\n",
        "num = 2\n",
        "\n",
        "if num < 0:\n",
        "   print(\"factorial does not exist for negative numbers\")\n",
        "elif num == 0:\n",
        "   print(\"The factorial of 0 is 1\")\n",
        "else:\n",
        "   print(\"The factorial of\", num, \"is\", recur_factorial(num))\n"
      ],
      "metadata": {
        "colab": {
          "base_uri": "https://localhost:8080/"
        },
        "id": "9p6jwd9x2Lsr",
        "outputId": "45408909-0882-4509-f62a-fa6c5361da28"
      },
      "execution_count": 4,
      "outputs": [
        {
          "output_type": "stream",
          "name": "stdout",
          "text": [
            "The factorial of 2 is 2\n"
          ]
        }
      ]
    },
    {
      "cell_type": "markdown",
      "source": [
        "Q3) Write a Python Program to calculate your Body Mass Index?"
      ],
      "metadata": {
        "id": "2B7XCSyi23-1"
      }
    },
    {
      "cell_type": "code",
      "source": [
        "height = float(input(\"Input your height in Feet: \"))\n",
        "weight = float(input(\"Input your weight in Kilogram: \"))\n",
        "print(\"Your body mass index is: \", round(weight / (height * height), 2))\n"
      ],
      "metadata": {
        "colab": {
          "base_uri": "https://localhost:8080/"
        },
        "id": "-9EQuiQH2wAu",
        "outputId": "84e9ade6-0ab0-4b00-d023-1ff7c60c8ae1"
      },
      "execution_count": 5,
      "outputs": [
        {
          "output_type": "stream",
          "name": "stdout",
          "text": [
            "Input your height in Feet: 5.5\n",
            "Input your weight in Kilogram: 79.300\n",
            "Your body mass index is:  2.62\n"
          ]
        }
      ]
    },
    {
      "cell_type": "markdown",
      "source": [
        "Q4) Write a Python Program to calculate the natural logarithm of any number?"
      ],
      "metadata": {
        "id": "GLsYWDAB3WBW"
      }
    },
    {
      "cell_type": "code",
      "source": [
        "import math\n",
        "\n",
        "print (\"Natural logarithm of 14 is : \", end=\"\")\n",
        "print (math.log(10))\n",
        "\n",
        "print (\"Logarithm base 5 of 14 is : \", end=\"\")\n",
        "print (math.log(10,5))\n"
      ],
      "metadata": {
        "colab": {
          "base_uri": "https://localhost:8080/"
        },
        "id": "HIA780S33FwS",
        "outputId": "87575084-aac1-4447-c783-4260d71e4cec"
      },
      "execution_count": 7,
      "outputs": [
        {
          "output_type": "stream",
          "name": "stdout",
          "text": [
            "Natural logarithm of 14 is : 2.302585092994046\n",
            "Logarithm base 5 of 14 is : 1.4306765580733933\n"
          ]
        }
      ]
    },
    {
      "cell_type": "markdown",
      "source": [
        "Q5) Write a Python Program for cube sum of first n natural numbers?"
      ],
      "metadata": {
        "id": "Pn4XiIOu3qhR"
      }
    },
    {
      "cell_type": "code",
      "source": [
        "def CubeSum(n):\n",
        "    s=0\n",
        "    for i in range(n+1):\n",
        "        s+=i**3\n",
        "    return s\n",
        "n=int(input(\"enter n: \"))\n",
        "print(\"sum of cubes of first {} natural numbers: \".format(n),CubeSum(n))"
      ],
      "metadata": {
        "colab": {
          "base_uri": "https://localhost:8080/"
        },
        "id": "tJ2ALGS83iiC",
        "outputId": "32dda7d8-2aab-4db5-833d-3ca232b9ad23"
      },
      "execution_count": 8,
      "outputs": [
        {
          "output_type": "stream",
          "name": "stdout",
          "text": [
            "enter n: 10\n",
            "sum of cubes of first 10 natural numbers:  3025\n"
          ]
        }
      ]
    },
    {
      "cell_type": "code",
      "source": [
        ""
      ],
      "metadata": {
        "id": "UqXPgaOf3ywz"
      },
      "execution_count": null,
      "outputs": []
    }
  ]
}